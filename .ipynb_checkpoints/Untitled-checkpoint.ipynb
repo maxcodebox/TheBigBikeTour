{
 "cells": [
  {
   "cell_type": "code",
   "execution_count": 128,
   "metadata": {},
   "outputs": [],
   "source": [
    "import matplotlib.pyplot as plt"
   ]
  },
  {
   "cell_type": "code",
   "execution_count": null,
   "metadata": {},
   "outputs": [],
   "source": []
  },
  {
   "cell_type": "code",
   "execution_count": null,
   "metadata": {},
   "outputs": [],
   "source": []
  },
  {
   "cell_type": "code",
   "execution_count": null,
   "metadata": {},
   "outputs": [],
   "source": []
  },
  {
   "cell_type": "code",
   "execution_count": 157,
   "metadata": {},
   "outputs": [],
   "source": [
    "# http://www.learningaboutelectronics.com/Articles/How-to-draw-contours-of-an-image-Python-OpenCV.php\n",
    "import numpy as np\n",
    "import cv2\n",
    "\n",
    "\n",
    "\n",
    "def get_letter_outline(letter, Lx = 1024, Ly = 1024):\n",
    "    #print(f'Getting contours for {letter}')\n",
    "    \n",
    "    #image= cv2.imread(filename)\n",
    "    \n",
    "    \n",
    "    \n",
    "    # Create a black image\n",
    "    image = np.zeros((Ly,Lx,3), np.uint8)\n",
    "    \n",
    "    # Write some Text\n",
    "    #font                   = cv2.FONT_HERSHEY_COMPLEX\n",
    "    #font                   = cv2.FONT_HERSHEY_COMPLEX_SMALL\n",
    "    #font                   = cv2.FONT_HERSHEY_DUPLEX\n",
    "    #font                   = cv2.FONT_HERSHEY_PLAIN\n",
    "    #font                   = cv2.FONT_HERSHEY_SCRIPT_COMPLEX\n",
    "    #font                   = cv2.FONT_HERSHEY_SCRIPT_SIMPLEX\n",
    "    font                   = cv2.FONT_HERSHEY_SIMPLEX\n",
    "    #font                   = cv2.FONT_HERSHEY_TRIPLEX\n",
    "    #font                   = cv2.FONT_ITALIC\n",
    "    bottomLeftCornerOfText = (1,3 * Ly // 4)\n",
    "    fontScale              = 20\n",
    "    fontColor              = (255,255,255)\n",
    "    thickness              = 10\n",
    "    lineType               = 4\n",
    "\n",
    "    cv2.putText(image,letter, \n",
    "        bottomLeftCornerOfText, \n",
    "        font, \n",
    "        fontScale,\n",
    "        fontColor,\n",
    "        thickness,\n",
    "        lineType)\n",
    "    \n",
    "    \n",
    "    cv2.imwrite('_temp.jpg', image)\n",
    "    gray= cv2.cvtColor(image, cv2.COLOR_BGR2GRAY)\n",
    "\n",
    "    edges= cv2.Canny(gray,30,200)\n",
    "\n",
    "    contours, hierarchy= cv2.findContours(edges, cv2.RETR_LIST, cv2.CHAIN_APPROX_NONE)\n",
    "\n",
    "    #cv2.drawContours(image, contours, -1, (0,255,0),3)\n",
    "\n",
    "    #cv2.imshow('All Contours', image)\n",
    "    contours_out = []\n",
    "    for i in range(len(contours)):\n",
    "        x = np.array([p[0][0] / Lx for p in contours[i]])\n",
    "        y = np.array([(Ly - p[0][1]) / Ly for p in contours[i]])\n",
    "        contours_out.append([x,y])\n",
    "        \n",
    "    return contours_out\n",
    "\n",
    "    \n",
    "contour_dict = dict()\n",
    "for letter in 'm':#BCDEFGHIJKLMNOPQRSTUVXYZabcefghijklmnopqrstuvwxyz':\n",
    "    contour_dict[letter] = get_letter_outline(letter = letter)\n",
    "#for i in range(len(contours)):\n",
    "#    x = [p[0][0] for p in contours[i]]\n",
    "#    y = [p[0][1] for p in contours[i]]\n",
    "#\n",
    "#    plt.plot(x,y,color='black')"
   ]
  },
  {
   "cell_type": "code",
   "execution_count": 137,
   "metadata": {},
   "outputs": [
    {
     "data": {
      "image/png": "[encoded data removed]",
      "text/plain": [
       "<Figure size 432x288 with 1 Axes>"
      ]
     },
     "metadata": {
      "needs_background": "light"
     },
     "output_type": "display_data"
    }
   ],
   "source": [
    "def plt_letter(letter,dx = 0, dy = 0,letter_width  = 1.0, letter_height = 1.0):\n",
    "    if letter == ' ':\n",
    "        return\n",
    "    for contour in contour_dict[letter]:\n",
    "        plt.plot(contour[0] * letter_width + dx, contour[1] * letter_height + dy, color='black', linewidth=0.1)\n",
    "\n",
    "for iletter,letter in enumerate('M'):\n",
    "    plot_letter(letter, dx =  iletter, letter_height = 2.0)"
   ]
  },
  {
   "cell_type": "code",
   "execution_count": 122,
   "metadata": {},
   "outputs": [
    {
     "data": {
      "text/plain": [
       "[array([0.67773438, 0.6796875 , 0.68164062, 0.68164062, 0.68164062,\n",
       "        0.6796875 , 0.67773438, 0.67773438]),\n",
       " array([0.03320312, 0.03515625, 0.03320312, 0.03125   , 0.02929688,\n",
       "        0.02734375, 0.02929688, 0.03125   ])]"
      ]
     },
     "execution_count": 122,
     "metadata": {},
     "output_type": "execute_result"
    }
   ],
   "source": [
    "contour_dict['A'][2]"
   ]
  },
  {
   "cell_type": "code",
   "execution_count": null,
   "metadata": {},
   "outputs": [],
   "source": []
  }
 ],
 "metadata": {
  "kernelspec": {
   "display_name": "Python 3",
   "language": "python",
   "name": "python3"
  },
  "language_info": {
   "codemirror_mode": {
    "name": "ipython",
    "version": 3
   },
   "file_extension": ".py",
   "mimetype": "text/x-python",
   "name": "python",
   "nbconvert_exporter": "python",
   "pygments_lexer": "ipython3",
   "version": "3.8.5"
  }
 },
 "nbformat": 4,
 "nbformat_minor": 4
}
